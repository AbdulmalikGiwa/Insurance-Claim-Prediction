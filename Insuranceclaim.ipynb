{
  "nbformat": 4,
  "nbformat_minor": 0,
  "metadata": {
    "colab": {
      "name": "Insuranceclaim.ipynb",
      "provenance": [],
      "collapsed_sections": [],
      "authorship_tag": "ABX9TyN6t4nu7qFt/ftsaATfPHFs",
      "include_colab_link": true
    },
    "kernelspec": {
      "name": "python3",
      "display_name": "Python 3"
    }
  },
  "cells": [
    {
      "cell_type": "markdown",
      "metadata": {
        "id": "view-in-github",
        "colab_type": "text"
      },
      "source": [
        "<a href=\"https://colab.research.google.com/github/AbdulmalikGiwa/Insurance-Claim-Prediction/blob/master/Insuranceclaim.ipynb\" target=\"_parent\"><img src=\"https://colab.research.google.com/assets/colab-badge.svg\" alt=\"Open In Colab\"/></a>"
      ]
    },
    {
      "cell_type": "markdown",
      "metadata": {
        "id": "gQnR8CcvFOh7",
        "colab_type": "text"
      },
      "source": [
        "# Introduction"
      ]
    },
    {
      "cell_type": "markdown",
      "metadata": {
        "id": "pafhrj0E7wuC",
        "colab_type": "text"
      },
      "source": [
        "A predictive model to determine if a building will have an insurance claim during a certain period or not. A few features were provided which will be explored to select the important and best feaures to build the model"
      ]
    },
    {
      "cell_type": "code",
      "metadata": {
        "id": "eDyA--26FH3r",
        "colab_type": "code",
        "colab": {}
      },
      "source": [
        "import pandas as pd\n",
        "import numpy as np\n",
        "import matplotlib.pyplot as plt\n"
      ],
      "execution_count": 0,
      "outputs": []
    },
    {
      "cell_type": "code",
      "metadata": {
        "id": "-fMUWcj2F2WU",
        "colab_type": "code",
        "outputId": "c8b44656-417e-4001-f406-b2e68dd07868",
        "colab": {
          "base_uri": "https://localhost:8080/",
          "height": 34
        }
      },
      "source": [
        "#importing train set\n",
        "train = pd.read_csv('/content/train_data.csv')\n",
        "test = pd.read_csv('/content/test_data.csv')\n",
        "#Creating an entire column to fill train and test locations with tags to make seperating them easier later on\n",
        "train['col'] = 'train' \n",
        "test['col'] = 'test'\n",
        "#new dataframe combining train and test\n",
        "total = pd.concat([train,test], ignore_index=True) \n",
        "print(total.shape, train.shape, test.shape)"
      ],
      "execution_count": 2,
      "outputs": [
        {
          "output_type": "stream",
          "text": [
            "(10229, 15) (7160, 15) (3069, 14)\n"
          ],
          "name": "stdout"
        }
      ]
    },
    {
      "cell_type": "markdown",
      "metadata": {
        "id": "0lSsivsaAy7l",
        "colab_type": "text"
      },
      "source": [
        "# Exploratory Analysis and Data Wrangling"
      ]
    },
    {
      "cell_type": "code",
      "metadata": {
        "id": "ewb5MlNtGGIo",
        "colab_type": "code",
        "outputId": "d4038eb3-15e2-4dd2-9628-683e961e1e84",
        "colab": {
          "base_uri": "https://localhost:8080/",
          "height": 289
        }
      },
      "source": [
        "total.isna().sum() #checking for missing values in the dataset"
      ],
      "execution_count": 3,
      "outputs": [
        {
          "output_type": "execute_result",
          "data": {
            "text/plain": [
              "Customer Id              0\n",
              "YearOfObservation        0\n",
              "Insured_Period           0\n",
              "Residential              0\n",
              "Building_Painted         0\n",
              "Building_Fenced          0\n",
              "Garden                  11\n",
              "Settlement               0\n",
              "Building Dimension     119\n",
              "Building_Type            0\n",
              "Date_of_Occupancy     1236\n",
              "NumberOfWindows          0\n",
              "Geo_Code               115\n",
              "Claim                 3069\n",
              "col                      0\n",
              "dtype: int64"
            ]
          },
          "metadata": {
            "tags": []
          },
          "execution_count": 3
        }
      ]
    },
    {
      "cell_type": "markdown",
      "metadata": {
        "id": "jFYpHKayXftF",
        "colab_type": "text"
      },
      "source": [
        "## Missing values in 'Garden' column\n"
      ]
    },
    {
      "cell_type": "markdown",
      "metadata": {
        "id": "ryJV9K6pZ8vr",
        "colab_type": "text"
      },
      "source": [
        "There are four(4) columns with missing values, In this section I will deal with the values mising in the column of buildings with/without a garden. A K-Nearest Neighbor classifier is used to predict the missing values. The missing values will then be filled by the predicted values. The column is a categorical variable one since there are just two options, and hence the use of a classification algorithm"
      ]
    },
    {
      "cell_type": "code",
      "metadata": {
        "id": "dtj8UMsNHZMb",
        "colab_type": "code",
        "colab": {}
      },
      "source": [
        "#LabelEncoder encodes categorical variablees with integers, ML algorithms cannot work with string values\n",
        "from sklearn.preprocessing import  LabelEncoder\n",
        "sub_total = total.copy()\n",
        "le = LabelEncoder() \n",
        "#function to get dummies and encode\n",
        "def tweaks(table) : \n",
        "  table = pd.get_dummies(table, columns=['Building_Type'])\n",
        "  cols = ['Building_Painted', 'Building_Fenced', 'Settlement']\n",
        "  for i in cols :\n",
        "    table[i] = le.fit_transform(table[i])\n",
        "\n",
        "  return table \n",
        "\n",
        "\n",
        "\n",
        "#print(sub_total.shape) #shape of new dataframe\n",
        "\n",
        "\n"
      ],
      "execution_count": 0,
      "outputs": []
    },
    {
      "cell_type": "code",
      "metadata": {
        "id": "LnmxKdhP2ofm",
        "colab_type": "code",
        "colab": {}
      },
      "source": [
        "colnot = ['Geo_Code', 'Claim', 'col', 'NumberOfWindows', 'Date_of_Occupancy', 'Customer Id',\n",
        "                        'Building Dimension','Garden']"
      ],
      "execution_count": 0,
      "outputs": []
    },
    {
      "cell_type": "code",
      "metadata": {
        "id": "M7G1cVcqoptM",
        "colab_type": "code",
        "colab": {}
      },
      "source": [
        "samp = total.copy()\n",
        "samp1= tweaks(samp)"
      ],
      "execution_count": 0,
      "outputs": []
    },
    {
      "cell_type": "code",
      "metadata": {
        "id": "gt_3rdqTW-g9",
        "colab_type": "code",
        "colab": {}
      },
      "source": [
        "# dummy variables creates  new columns for categorical variables and encodes with 1 and 0\n",
        "\n",
        "class DataCleaner :\n",
        "\n",
        "  def handle_missing_categorical(dum_gen,col_in_view,col_not_used,model,og_frame):\n",
        "    #This function will help to sort missing values in columns and return a new dataframe with missing values in\n",
        "    #the selected column replaced by values predicted by a chosen ML algorithm\n",
        "    in_ytrain = dum_gen.loc[dum_gen[col_in_view].notnull(), col_in_view]\n",
        "    in_xtrain = dum_gen.loc[dum_gen[col_in_view].notnull()]\n",
        "    in_xtrain = in_xtrain.drop(col_not_used, axis=1)\n",
        "    in_xtest = dum_gen.loc[dum_gen[col_in_view].isnull(), in_xtrain.columns]\n",
        "\n",
        "    in_ytrain = le.fit_transform(in_ytrain)\n",
        "\n",
        "    model.fit(in_xtrain, in_ytrain) #fit the model\n",
        "\n",
        "    pred = model.predict(in_xtest)\n",
        "    pred= pd.DataFrame(pred)\n",
        "\n",
        "    samp = dum_gen.loc[dum_gen[col_in_view].isnull()]\n",
        "    samp2 = samp[['Customer Id']].copy()\n",
        "    pred.reset_index(drop=True,inplace=True)\n",
        "\n",
        "    fixed = pd.concat([samp2, pred], axis=1)\n",
        "    fixed.columns = ['Customer Id', 'Garden']\n",
        "\n",
        "    og_frame.loc[og_frame[col_in_view].notnull(), col_in_view]\n",
        "\n",
        "    merged = pd.merge(og_frame, fixed)\n",
        "    \n",
        "\n",
        "    og_copy = og_frame.drop(og_frame.loc[og_frame[col_in_view].isnull()].index)\n",
        "    og_copy[col_in_view] = le.fit_transform(og_copy[col_in_view])\n",
        "    final_table = pd.concat([og_copy,merged])\n",
        "\n",
        "    return pred\n",
        "\n",
        "\n",
        "  def handle_missing_continuous(dum_gen,col_in_view,col_not_used,model,og_frame):\n",
        "    #This function will help to sort missing values in columns and return a new dataframe with missing values in\n",
        "    #the selected column replaced by values predicted by a chosen ML algorithm\n",
        "    in_ytrain = dum_gen.loc[dum_gen[col_in_view].notnull(), col_in_view]\n",
        "    in_xtrain = dum_gen.loc[dum_gen[col_in_view].notnull()]\n",
        "    in_xtrain = in_xtrain.drop(col_not_used, axis=1)\n",
        "    in_xtest = dum_gen.loc[dum_gen[col_in_view].isnull(), in_xtrain.columns]\n",
        "\n",
        "    in_ytrain = le.fit_transform(in_ytrain)\n",
        "\n",
        "    model.fit(in_xtrain, in_ytrain) #fit the model\n",
        "\n",
        "    pred = model.predict(in_xtest)\n",
        "    pred= pd.DataFrame(pred)\n",
        "\n",
        "    samp = dum_gen.loc[dum_gen[col_in_view].isnull()]\n",
        "    samp2 = samp[['Customer Id']].copy()\n",
        "    pred.reset_index(drop=True,inplace=True)\n",
        "\n",
        "    fixed = pd.concat([samp2, pred], axis=1)\n",
        "    fixed.columns = ['Customer Id', col_in_view]\n",
        "\n",
        "    og_frame.loc[og_frame[col_in_view].notnull(), col_in_view]\n",
        "\n",
        "    merged = pd.merge(og_frame, fixed)\n",
        "    \n",
        "\n",
        "    og_copy = og_frame.drop(og_frame.loc[og_frame[col_in_view].isnull()].index)\n",
        "    \n",
        "    final_table = pd.concat([og_copy,merged])\n",
        "\n",
        "    return pred\n",
        "\n",
        "\n",
        "\n",
        "\n",
        "\n",
        "\n",
        "  #dummy = tweaks(sub_total)\n",
        "  #dropping columns not needed\n",
        "  #dummy.drop(['Claim', 'Geo_Code', 'Building Dimension', 'Date_of_Occupancy', 'NumberOfWindows'], axis=1, inplace=True)"
      ],
      "execution_count": 0,
      "outputs": []
    },
    {
      "cell_type": "code",
      "metadata": {
        "id": "R34cWbreo3sl",
        "colab_type": "code",
        "colab": {}
      },
      "source": [
        "from sklearn.neighbors import KNeighborsClassifier\n",
        "sampneigh = KNeighborsClassifier(n_neighbors=7)"
      ],
      "execution_count": 0,
      "outputs": []
    },
    {
      "cell_type": "code",
      "metadata": {
        "id": "DJdd3eUfo3iq",
        "colab_type": "code",
        "colab": {
          "base_uri": "https://localhost:8080/",
          "height": 34
        },
        "outputId": "4406f91b-aa9f-4070-d958-f6462d940884"
      },
      "source": [
        "samp_final = DataCleaner()\n",
        "samp_final = samp_final.handle_missing(samp1,'Garden',colnot,sampneigh,samp)\n",
        "print(samp_final.shape)"
      ],
      "execution_count": 88,
      "outputs": [
        {
          "output_type": "stream",
          "text": [
            "(11, 1)\n"
          ],
          "name": "stdout"
        }
      ]
    },
    {
      "cell_type": "code",
      "metadata": {
        "id": "1WVH_r37q5yC",
        "colab_type": "code",
        "colab": {
          "base_uri": "https://localhost:8080/",
          "height": 390
        },
        "outputId": "a50f245c-313b-4d97-eda2-288331532b17"
      },
      "source": [
        "samp_final"
      ],
      "execution_count": 89,
      "outputs": [
        {
          "output_type": "execute_result",
          "data": {
            "text/html": [
              "<div>\n",
              "<style scoped>\n",
              "    .dataframe tbody tr th:only-of-type {\n",
              "        vertical-align: middle;\n",
              "    }\n",
              "\n",
              "    .dataframe tbody tr th {\n",
              "        vertical-align: top;\n",
              "    }\n",
              "\n",
              "    .dataframe thead th {\n",
              "        text-align: right;\n",
              "    }\n",
              "</style>\n",
              "<table border=\"1\" class=\"dataframe\">\n",
              "  <thead>\n",
              "    <tr style=\"text-align: right;\">\n",
              "      <th></th>\n",
              "      <th>0</th>\n",
              "    </tr>\n",
              "  </thead>\n",
              "  <tbody>\n",
              "    <tr>\n",
              "      <th>0</th>\n",
              "      <td>0</td>\n",
              "    </tr>\n",
              "    <tr>\n",
              "      <th>1</th>\n",
              "      <td>0</td>\n",
              "    </tr>\n",
              "    <tr>\n",
              "      <th>2</th>\n",
              "      <td>0</td>\n",
              "    </tr>\n",
              "    <tr>\n",
              "      <th>3</th>\n",
              "      <td>0</td>\n",
              "    </tr>\n",
              "    <tr>\n",
              "      <th>4</th>\n",
              "      <td>0</td>\n",
              "    </tr>\n",
              "    <tr>\n",
              "      <th>5</th>\n",
              "      <td>0</td>\n",
              "    </tr>\n",
              "    <tr>\n",
              "      <th>6</th>\n",
              "      <td>0</td>\n",
              "    </tr>\n",
              "    <tr>\n",
              "      <th>7</th>\n",
              "      <td>0</td>\n",
              "    </tr>\n",
              "    <tr>\n",
              "      <th>8</th>\n",
              "      <td>0</td>\n",
              "    </tr>\n",
              "    <tr>\n",
              "      <th>9</th>\n",
              "      <td>0</td>\n",
              "    </tr>\n",
              "    <tr>\n",
              "      <th>10</th>\n",
              "      <td>0</td>\n",
              "    </tr>\n",
              "  </tbody>\n",
              "</table>\n",
              "</div>"
            ],
            "text/plain": [
              "    0\n",
              "0   0\n",
              "1   0\n",
              "2   0\n",
              "3   0\n",
              "4   0\n",
              "5   0\n",
              "6   0\n",
              "7   0\n",
              "8   0\n",
              "9   0\n",
              "10  0"
            ]
          },
          "metadata": {
            "tags": []
          },
          "execution_count": 89
        }
      ]
    },
    {
      "cell_type": "code",
      "metadata": {
        "id": "BE1ffcVjw3kt",
        "colab_type": "code",
        "colab": {
          "base_uri": "https://localhost:8080/",
          "height": 289
        },
        "outputId": "1a888ba8-fe3c-42bf-a357-8cd1a4b713eb"
      },
      "source": [
        ""
      ],
      "execution_count": 18,
      "outputs": [
        {
          "output_type": "execute_result",
          "data": {
            "text/plain": [
              "Customer Id              H1166\n",
              "YearOfObservation         2013\n",
              "Insured_Period        0.221918\n",
              "Residential                  0\n",
              "Building_Painted             V\n",
              "Building_Fenced              V\n",
              "Garden                       V\n",
              "Settlement                   U\n",
              "Building Dimension         238\n",
              "Building_Type                1\n",
              "Date_of_Occupancy         1980\n",
              "NumberOfWindows              .\n",
              "Geo_Code                 86194\n",
              "Claim                      NaN\n",
              "col                       test\n",
              "Name: 9793, dtype: object"
            ]
          },
          "metadata": {
            "tags": []
          },
          "execution_count": 18
        }
      ]
    },
    {
      "cell_type": "code",
      "metadata": {
        "id": "zXCSi8ADvWO6",
        "colab_type": "code",
        "colab": {}
      },
      "source": [
        "#creating these copies to merge original dataframe back with the predicted results\n",
        "######(backup0.shape, train_backup.shape, backup1.shape, test_backup.shape)"
      ],
      "execution_count": 0,
      "outputs": []
    },
    {
      "cell_type": "code",
      "metadata": {
        "id": "D1FD6itTGY5Z",
        "colab_type": "code",
        "colab": {}
      },
      "source": [
        "#Creating sub train and test with respect to missing values in Garden column\n",
        "#sub test and train will be used to run classifier to predict garden\n",
        "\n",
        "sub_train= dummy.loc[dummy['Garden'].notnull()]\n",
        "#sub_train= sub_train.reset_index(drop=True)\n",
        "sub_test= dummy.loc[dummy['Garden'].isnull()]\n",
        "#sub_test= sub_test.reset_index(drop=True)"
      ],
      "execution_count": 0,
      "outputs": []
    },
    {
      "cell_type": "code",
      "metadata": {
        "id": "i35X6aL8JhmG",
        "colab_type": "code",
        "colab": {
          "base_uri": "https://localhost:8080/",
          "height": 224
        },
        "outputId": "7be92126-bd27-443b-d5a6-2fa4b9da6cf1"
      },
      "source": [
        "sub_train.drop(['Customer Id','col'], axis=1, inplace=True) #drop columns not neede\n",
        "sub_train['Garden'] = le.fit_transform(sub_train['Garden']) #labe encode garden column\n",
        "y_train =  sub_train['Garden'].values #y_train will be used to fit model\n",
        "sub_train.drop(['Garden'], axis=1, inplace=True)\n",
        "x_train= sub_train # will be used in fitting model\n",
        "sub_test.drop(['Customer Id', 'col','Garden'],axis=1, inplace=True)"
      ],
      "execution_count": 8,
      "outputs": [
        {
          "output_type": "stream",
          "text": [
            "/usr/local/lib/python3.6/dist-packages/pandas/core/frame.py:3997: SettingWithCopyWarning: \n",
            "A value is trying to be set on a copy of a slice from a DataFrame\n",
            "\n",
            "See the caveats in the documentation: https://pandas.pydata.org/pandas-docs/stable/user_guide/indexing.html#returning-a-view-versus-a-copy\n",
            "  errors=errors,\n",
            "/usr/local/lib/python3.6/dist-packages/ipykernel_launcher.py:2: SettingWithCopyWarning: \n",
            "A value is trying to be set on a copy of a slice from a DataFrame.\n",
            "Try using .loc[row_indexer,col_indexer] = value instead\n",
            "\n",
            "See the caveats in the documentation: https://pandas.pydata.org/pandas-docs/stable/user_guide/indexing.html#returning-a-view-versus-a-copy\n",
            "  \n"
          ],
          "name": "stderr"
        }
      ]
    },
    {
      "cell_type": "code",
      "metadata": {
        "id": "acB5lFb_1nbn",
        "colab_type": "code",
        "colab": {
          "base_uri": "https://localhost:8080/",
          "height": 34
        },
        "outputId": "2d1aa462-57ab-4814-d02b-ff02c1d4fbd2"
      },
      "source": [
        "print(x_train.shape, sub_train.shape)"
      ],
      "execution_count": 9,
      "outputs": [
        {
          "output_type": "stream",
          "text": [
            "(10218, 10) (10218, 10)\n"
          ],
          "name": "stdout"
        }
      ]
    },
    {
      "cell_type": "code",
      "metadata": {
        "id": "rYp3yA8yE2iv",
        "colab_type": "code",
        "colab": {}
      },
      "source": [
        "from sklearn import preprocessing\n",
        "\n",
        "x_test = sub_test\n",
        "X_train= preprocessing.StandardScaler().fit(x_train).transform(x_train) #normalizing data\n",
        "X_test = preprocessing.StandardScaler().fit(x_test).transform(x_test)"
      ],
      "execution_count": 0,
      "outputs": []
    },
    {
      "cell_type": "code",
      "metadata": {
        "id": "OgoQuiF62Ftk",
        "colab_type": "code",
        "colab": {}
      },
      "source": [
        "from sklearn.neighbors import KNeighborsClassifier\n",
        "\n",
        "\n",
        "#This is to select the best no of neighbors for the KNN classifier\n",
        "def best_neighbors(x,y,samp_num=10) :\n",
        "  Ks = samp_num\n",
        "  jacc= np.zeros((Ks-1))\n",
        "\n",
        "  for n in range(1,Ks) :\n",
        "      neigh = KNeighborsClassifier(n_neighbors=n).fit(x,y)\n",
        "      \n",
        "      jacc[n-1] = neigh.score(x,y)\n",
        "  return jacc"
      ],
      "execution_count": 0,
      "outputs": []
    },
    {
      "cell_type": "code",
      "metadata": {
        "id": "uBn8chbLIkxY",
        "colab_type": "code",
        "colab": {
          "base_uri": "https://localhost:8080/",
          "height": 51
        },
        "outputId": "c6cc9d49-d002-4bfc-b530-d6454ef82a25"
      },
      "source": [
        "best_neighbors(x=X_train, y=y_train)"
      ],
      "execution_count": 12,
      "outputs": [
        {
          "output_type": "execute_result",
          "data": {
            "text/plain": [
              "array([1.        , 0.99990213, 0.99990213, 0.99990213, 0.99990213,\n",
              "       0.99990213, 0.99990213, 0.99990213, 0.99990213])"
            ]
          },
          "metadata": {
            "tags": []
          },
          "execution_count": 12
        }
      ]
    },
    {
      "cell_type": "code",
      "metadata": {
        "id": "glQ90EyjGYfR",
        "colab_type": "code",
        "colab": {
          "base_uri": "https://localhost:8080/",
          "height": 34
        },
        "outputId": "cda14783-3d1c-4e2d-d938-2a72c7f1ef16"
      },
      "source": [
        "# fit classifier and make predictions\n",
        "neigh = KNeighborsClassifier(n_neighbors=1).fit(X_train,y_train)\n",
        "garden_pred = neigh.predict(X_test)\n",
        "garden_pred[0:8]"
      ],
      "execution_count": 13,
      "outputs": [
        {
          "output_type": "execute_result",
          "data": {
            "text/plain": [
              "array([1, 1, 1, 1, 1, 1, 1, 1])"
            ]
          },
          "metadata": {
            "tags": []
          },
          "execution_count": 13
        }
      ]
    },
    {
      "cell_type": "code",
      "metadata": {
        "id": "KA-PxWnMKlLN",
        "colab_type": "code",
        "colab": {
          "base_uri": "https://localhost:8080/",
          "height": 34
        },
        "outputId": "c576ca89-f30a-4223-cade-790ad8c68c4d"
      },
      "source": [
        "garden_pred"
      ],
      "execution_count": 14,
      "outputs": [
        {
          "output_type": "execute_result",
          "data": {
            "text/plain": [
              "array([1, 1, 1, 1, 1, 1, 1, 1, 1, 1, 1])"
            ]
          },
          "metadata": {
            "tags": []
          },
          "execution_count": 14
        }
      ]
    },
    {
      "cell_type": "code",
      "metadata": {
        "id": "WzvNZkepOkdd",
        "colab_type": "code",
        "colab": {
          "base_uri": "https://localhost:8080/",
          "height": 34
        },
        "outputId": "b3971cf9-bd6e-49cb-ed25-7ce58a6a20d2"
      },
      "source": [
        "y_train[0:8]"
      ],
      "execution_count": 15,
      "outputs": [
        {
          "output_type": "execute_result",
          "data": {
            "text/plain": [
              "array([1, 0, 1, 1, 0, 0, 1, 1])"
            ]
          },
          "metadata": {
            "tags": []
          },
          "execution_count": 15
        }
      ]
    },
    {
      "cell_type": "code",
      "metadata": {
        "id": "VlEszK1FQDV9",
        "colab_type": "code",
        "colab": {}
      },
      "source": [
        "total['Garden'].fillna('V', inplace = True)"
      ],
      "execution_count": 0,
      "outputs": []
    },
    {
      "cell_type": "markdown",
      "metadata": {
        "id": "BLc-yKqeZpZz",
        "colab_type": "text"
      },
      "source": [
        "## Missing values in 'Building Dimension'"
      ]
    },
    {
      "cell_type": "code",
      "metadata": {
        "id": "xv8NYt1_RqT3",
        "colab_type": "code",
        "colab": {
          "base_uri": "https://localhost:8080/",
          "height": 289
        },
        "outputId": "491bb438-b903-4a55-97bd-fdad11f6b2a0"
      },
      "source": [
        "total.isna().sum()"
      ],
      "execution_count": 17,
      "outputs": [
        {
          "output_type": "execute_result",
          "data": {
            "text/plain": [
              "Customer Id              0\n",
              "YearOfObservation        0\n",
              "Insured_Period           0\n",
              "Residential              0\n",
              "Building_Painted         0\n",
              "Building_Fenced          0\n",
              "Garden                   0\n",
              "Settlement               0\n",
              "Building Dimension     119\n",
              "Building_Type            0\n",
              "Date_of_Occupancy     1236\n",
              "NumberOfWindows          0\n",
              "Geo_Code               115\n",
              "Claim                 3069\n",
              "col                      0\n",
              "dtype: int64"
            ]
          },
          "metadata": {
            "tags": []
          },
          "execution_count": 17
        }
      ]
    },
    {
      "cell_type": "code",
      "metadata": {
        "id": "dPw5UpFoTWc4",
        "colab_type": "code",
        "colab": {
          "base_uri": "https://localhost:8080/",
          "height": 289
        },
        "outputId": "967d1029-590b-47ec-8b3d-246b21c88e87"
      },
      "source": [
        "total.nunique()"
      ],
      "execution_count": 18,
      "outputs": [
        {
          "output_type": "execute_result",
          "data": {
            "text/plain": [
              "Customer Id           10229\n",
              "YearOfObservation         5\n",
              "Insured_Period          467\n",
              "Residential               2\n",
              "Building_Painted          2\n",
              "Building_Fenced           2\n",
              "Garden                    2\n",
              "Settlement                2\n",
              "Building Dimension     2463\n",
              "Building_Type             4\n",
              "Date_of_Occupancy       139\n",
              "NumberOfWindows          11\n",
              "Geo_Code               1525\n",
              "Claim                     2\n",
              "col                       2\n",
              "dtype: int64"
            ]
          },
          "metadata": {
            "tags": []
          },
          "execution_count": 18
        }
      ]
    },
    {
      "cell_type": "code",
      "metadata": {
        "id": "WoFGW-dkbjAS",
        "colab_type": "code",
        "colab": {
          "base_uri": "https://localhost:8080/",
          "height": 34
        },
        "outputId": "3dd5a6b3-e5ee-47e1-bb45-b7f301af9fea"
      },
      "source": [
        "min(total['Building Dimension'])"
      ],
      "execution_count": 19,
      "outputs": [
        {
          "output_type": "execute_result",
          "data": {
            "text/plain": [
              "1.0"
            ]
          },
          "metadata": {
            "tags": []
          },
          "execution_count": 19
        }
      ]
    },
    {
      "cell_type": "markdown",
      "metadata": {
        "id": "pwTiGjWFeCa0",
        "colab_type": "text"
      },
      "source": [
        "This indicates that the smallest value in building dimension column is 1m^2 which should be impossible, no building is possibly that small, I'll have to do a little bit of research to understand the smallest possible dimension for a building then use this to restructure the column because the problem in this column exceeds just NaN values"
      ]
    },
    {
      "cell_type": "code",
      "metadata": {
        "id": "XY3Iqzccdj28",
        "colab_type": "code",
        "colab": {
          "base_uri": "https://localhost:8080/",
          "height": 289
        },
        "outputId": "9e86ebde-63c2-4397-9641-b58681406b72"
      },
      "source": [
        "total.loc[total['Building Dimension']<30].count()"
      ],
      "execution_count": 20,
      "outputs": [
        {
          "output_type": "execute_result",
          "data": {
            "text/plain": [
              "Customer Id           31\n",
              "YearOfObservation     31\n",
              "Insured_Period        31\n",
              "Residential           31\n",
              "Building_Painted      31\n",
              "Building_Fenced       31\n",
              "Garden                31\n",
              "Settlement            31\n",
              "Building Dimension    31\n",
              "Building_Type         31\n",
              "Date_of_Occupancy     24\n",
              "NumberOfWindows       31\n",
              "Geo_Code              31\n",
              "Claim                 23\n",
              "col                   31\n",
              "dtype: int64"
            ]
          },
          "metadata": {
            "tags": []
          },
          "execution_count": 20
        }
      ]
    },
    {
      "cell_type": "markdown",
      "metadata": {
        "id": "BpWkLEZCpB2i",
        "colab_type": "text"
      },
      "source": [
        "From some research I did through sources online, the minimum dimension for a building is expected to fall within the range of 30m^2 to 37m^2, for this reason I'll take 30 as the minimum acceptable dimension therefore every row with values of Building Dimension being lesser than 30  will be replaced by NaN. After sorting the irregularity in the dimension, A Linear Regression algorithm will be used to predict all the unknown values "
      ]
    },
    {
      "cell_type": "code",
      "metadata": {
        "id": "P8sRn7DLrtjv",
        "colab_type": "code",
        "colab": {}
      },
      "source": [
        "bd= total.copy()\n",
        "bd.loc[bd['Building Dimension']<30, 'Building Dimension']= np.nan #replaces all values less than 30 with Nan\n"
      ],
      "execution_count": 0,
      "outputs": []
    },
    {
      "cell_type": "code",
      "metadata": {
        "id": "pLRUO71avMWV",
        "colab_type": "code",
        "colab": {
          "base_uri": "https://localhost:8080/",
          "height": 289
        },
        "outputId": "f7f3c036-c312-4b35-e87f-aa95745e9c21"
      },
      "source": [
        "bd.isna().sum()"
      ],
      "execution_count": 34,
      "outputs": [
        {
          "output_type": "execute_result",
          "data": {
            "text/plain": [
              "Customer Id              0\n",
              "YearOfObservation        0\n",
              "Insured_Period           0\n",
              "Residential              0\n",
              "Building_Painted         0\n",
              "Building_Fenced          0\n",
              "Garden                   0\n",
              "Settlement               0\n",
              "Building Dimension     150\n",
              "Building_Type            0\n",
              "Date_of_Occupancy     1236\n",
              "NumberOfWindows          0\n",
              "Geo_Code               115\n",
              "Claim                 3069\n",
              "col                      0\n",
              "dtype: int64"
            ]
          },
          "metadata": {
            "tags": []
          },
          "execution_count": 34
        }
      ]
    },
    {
      "cell_type": "code",
      "metadata": {
        "id": "ymxsmbwQyb1F",
        "colab_type": "code",
        "colab": {}
      },
      "source": [
        "bd= tweaks(bd) #tweaks function defined in a cell earlier above\n",
        "y_bdtrain = bd.loc[bd['Building Dimension'].notnull(), 'Building Dimension']\n",
        "\n",
        "x_bdtrain = bd.loc[bd['Building Dimension'].notnull()]\n",
        "\n",
        "x_bdtrain = x_bdtrain.drop(['Geo_Code', 'Claim', 'col', 'NumberOfWindows', 'Date_of_Occupancy', 'Customer Id',\n",
        "                       'Building Dimension'], axis=1)\n",
        "\n",
        "\n",
        "x_bdtest = bd.loc[bd['Building Dimension'].isnull(), x_bdtrain.columns]"
      ],
      "execution_count": 0,
      "outputs": []
    },
    {
      "cell_type": "code",
      "metadata": {
        "id": "I6EBLnTNPfnC",
        "colab_type": "code",
        "colab": {
          "base_uri": "https://localhost:8080/",
          "height": 34
        },
        "outputId": "ee4a65c7-bc0c-49ba-a6c7-6dd536f0b4c4"
      },
      "source": [
        "print(x_bdtest.shape)"
      ],
      "execution_count": 36,
      "outputs": [
        {
          "output_type": "stream",
          "text": [
            "(150, 11)\n"
          ],
          "name": "stdout"
        }
      ]
    },
    {
      "cell_type": "code",
      "metadata": {
        "id": "w1KAJEvUPlcb",
        "colab_type": "code",
        "colab": {}
      },
      "source": [
        "from sklearn.linear_model import LinearRegression\n",
        "\n",
        "lr = LinearRegression()\n",
        "\n",
        "lr.fit(x_bdtrain, y_bdtrain) #fit the model\n",
        "\n",
        "bd_pred = lr.predict(x_bdtest)"
      ],
      "execution_count": 0,
      "outputs": []
    },
    {
      "cell_type": "code",
      "metadata": {
        "id": "8W5w0x5ZSCXF",
        "colab_type": "code",
        "colab": {}
      },
      "source": [
        "bd_pred = pd.DataFrame(data=bd_pred)"
      ],
      "execution_count": 0,
      "outputs": []
    },
    {
      "cell_type": "code",
      "metadata": {
        "id": "i9OEh1X-VM9o",
        "colab_type": "code",
        "colab": {}
      },
      "source": [
        "bd4test = bd.loc[bd['Building Dimension'].isnull()]\n",
        "bdtest = bd4test[['Customer Id']].copy()\n",
        "bd_fixed = pd.concat([bdtest, bd_pred], axis=1)"
      ],
      "execution_count": 0,
      "outputs": []
    },
    {
      "cell_type": "code",
      "metadata": {
        "id": "u8mt4yjCY60J",
        "colab_type": "code",
        "colab": {
          "base_uri": "https://localhost:8080/",
          "height": 34
        },
        "outputId": "621aba67-b376-4c23-e36b-edf78cf5ae93"
      },
      "source": [
        "print(bdtest.shape, bd_pred.shape)"
      ],
      "execution_count": 49,
      "outputs": [
        {
          "output_type": "stream",
          "text": [
            "(150, 1) (150, 1)\n"
          ],
          "name": "stdout"
        }
      ]
    },
    {
      "cell_type": "code",
      "metadata": {
        "id": "DwECfUS1Z2mO",
        "colab_type": "code",
        "colab": {
          "base_uri": "https://localhost:8080/",
          "height": 204
        },
        "outputId": "f2394b2f-c63b-4da6-ba12-f639f8a9a1a1"
      },
      "source": [
        "bd_fixed = pd.concat([bd_pred, bdtest2], axis=1)\n",
        "bd_fixed.head()"
      ],
      "execution_count": 56,
      "outputs": [
        {
          "output_type": "execute_result",
          "data": {
            "text/html": [
              "<div>\n",
              "<style scoped>\n",
              "    .dataframe tbody tr th:only-of-type {\n",
              "        vertical-align: middle;\n",
              "    }\n",
              "\n",
              "    .dataframe tbody tr th {\n",
              "        vertical-align: top;\n",
              "    }\n",
              "\n",
              "    .dataframe thead th {\n",
              "        text-align: right;\n",
              "    }\n",
              "</style>\n",
              "<table border=\"1\" class=\"dataframe\">\n",
              "  <thead>\n",
              "    <tr style=\"text-align: right;\">\n",
              "      <th></th>\n",
              "      <th>0</th>\n",
              "      <th>Customer Id</th>\n",
              "    </tr>\n",
              "  </thead>\n",
              "  <tbody>\n",
              "    <tr>\n",
              "      <th>0</th>\n",
              "      <td>1676.0</td>\n",
              "      <td>H4555</td>\n",
              "    </tr>\n",
              "    <tr>\n",
              "      <th>1</th>\n",
              "      <td>1676.0</td>\n",
              "      <td>H6126</td>\n",
              "    </tr>\n",
              "    <tr>\n",
              "      <th>2</th>\n",
              "      <td>1848.0</td>\n",
              "      <td>H4585</td>\n",
              "    </tr>\n",
              "    <tr>\n",
              "      <th>3</th>\n",
              "      <td>1852.0</td>\n",
              "      <td>H4586</td>\n",
              "    </tr>\n",
              "    <tr>\n",
              "      <th>4</th>\n",
              "      <td>1780.0</td>\n",
              "      <td>H6756</td>\n",
              "    </tr>\n",
              "  </tbody>\n",
              "</table>\n",
              "</div>"
            ],
            "text/plain": [
              "        0 Customer Id\n",
              "0  1676.0       H4555\n",
              "1  1676.0       H6126\n",
              "2  1848.0       H4585\n",
              "3  1852.0       H4586\n",
              "4  1780.0       H6756"
            ]
          },
          "metadata": {
            "tags": []
          },
          "execution_count": 56
        }
      ]
    },
    {
      "cell_type": "code",
      "metadata": {
        "id": "WAFkgnlraZLr",
        "colab_type": "code",
        "colab": {
          "base_uri": "https://localhost:8080/",
          "height": 68
        },
        "outputId": "8469aa8a-9d7a-4d60-a8bb-39bd1ed2b7b5"
      },
      "source": [
        ""
      ],
      "execution_count": 48,
      "outputs": [
        {
          "output_type": "execute_result",
          "data": {
            "text/plain": [
              "0              148\n",
              "Customer Id    148\n",
              "dtype: int64"
            ]
          },
          "metadata": {
            "tags": []
          },
          "execution_count": 48
        }
      ]
    },
    {
      "cell_type": "code",
      "metadata": {
        "id": "T7dyAiWnah3h",
        "colab_type": "code",
        "colab": {}
      },
      "source": [
        "bdtest2 = bdtest.reset_index(drop=True)"
      ],
      "execution_count": 0,
      "outputs": []
    },
    {
      "cell_type": "code",
      "metadata": {
        "id": "k_hfenmMbC8v",
        "colab_type": "code",
        "colab": {}
      },
      "source": [
        ""
      ],
      "execution_count": 0,
      "outputs": []
    }
  ]
}